{
 "cells": [
  {
   "cell_type": "code",
   "execution_count": 1,
   "id": "c12dd618",
   "metadata": {},
   "outputs": [],
   "source": [
    "from utils import import_data\n",
    "\n",
    "dataset_path = \"data\"\n",
    "dataset_version = \"fake-v1.0\"\n",
    "\n",
    "fake_dataset = import_data(dataset_path, dataset_version)['dataframe']\n",
    "\n",
    "dataset_path = \"data\"\n",
    "dataset_version = \"automated-v1.0\"\n",
    "\n",
    "automated_dataset = import_data(dataset_path, dataset_version)['dataframe']"
   ]
  },
  {
   "cell_type": "code",
   "execution_count": 2,
   "id": "b7db0e70",
   "metadata": {},
   "outputs": [],
   "source": [
    "from sklearn.model_selection import train_test_split\n",
    "X, y = fake_dataset.iloc[:, :-1], fake_dataset.iloc[:, -1]\n",
    "\n",
    "# this is not the most valid way of doing things\n",
    "X_fake_tr, X_fake_te, y_fake_tr, y_fake_te = train_test_split(X, y, test_size=0.2) "
   ]
  },
  {
   "cell_type": "markdown",
   "id": "6821eff7",
   "metadata": {},
   "source": [
    "### Model Experiments"
   ]
  },
  {
   "cell_type": "code",
   "execution_count": 9,
   "id": "152913ef",
   "metadata": {},
   "outputs": [
    {
     "data": {
      "text/plain": [
       "RandomForestClassifier()"
      ]
     },
     "execution_count": 9,
     "metadata": {},
     "output_type": "execute_result"
    }
   ],
   "source": [
    "from xgboost import XGBClassifier\n",
    "from sklearn.ensemble import RandomForestClassifier\n",
    "from sklearn.svm import SVC\n",
    "from sklearn.datasets import make_classification\n",
    "from sklearn.metrics import confusion_matrix, recall_score, precision_score\n",
    "\n",
    "# clf = SVC()\n",
    "# clf = XGBClassifier()\n",
    "clf = RandomForestClassifier()\n",
    "clf.fit(X_fake_tr, y_fake_tr)"
   ]
  },
  {
   "cell_type": "code",
   "execution_count": 10,
   "id": "9915a762",
   "metadata": {},
   "outputs": [
    {
     "name": "stdout",
     "output_type": "stream",
     "text": [
      "[[191   8]\n",
      " [  3  37]]\n"
     ]
    }
   ],
   "source": [
    "y_pre_fake_te = clf.predict(X_fake_te)\n",
    "print(confusion_matrix(y_fake_te, y_pre_fake_te))"
   ]
  },
  {
   "cell_type": "code",
   "execution_count": 11,
   "id": "0312776e",
   "metadata": {},
   "outputs": [
    {
     "name": "stdout",
     "output_type": "stream",
     "text": [
      "0.925\n",
      "0.8222222222222222\n"
     ]
    }
   ],
   "source": [
    "print(recall_score(y_fake_te, y_pre_fake_te))\n",
    "print(precision_score(y_fake_te, y_pre_fake_te))"
   ]
  },
  {
   "cell_type": "code",
   "execution_count": null,
   "id": "ec5c42f4",
   "metadata": {},
   "outputs": [],
   "source": []
  }
 ],
 "metadata": {
  "kernelspec": {
   "display_name": "Python 3 (ipykernel)",
   "language": "python",
   "name": "python3"
  },
  "language_info": {
   "codemirror_mode": {
    "name": "ipython",
    "version": 3
   },
   "file_extension": ".py",
   "mimetype": "text/x-python",
   "name": "python",
   "nbconvert_exporter": "python",
   "pygments_lexer": "ipython3",
   "version": "3.7.9"
  }
 },
 "nbformat": 4,
 "nbformat_minor": 5
}
