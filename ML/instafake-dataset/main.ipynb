{
 "cells": [
  {
   "cell_type": "code",
   "execution_count": null,
   "id": "c12dd618",
   "metadata": {},
   "outputs": [],
   "source": [
    "from utils import import_data\n",
    "\n",
    "dataset_path = \"data\"\n",
    "dataset_version = \"fake-v1.0\"\n",
    "\n",
    "fake_dataset = import_data(dataset_path, dataset_version)['dataframe']\n",
    "\n",
    "dataset_path = \"data\"\n",
    "dataset_version = \"automated-v1.0\"\n",
    "\n",
    "automated_dataset = import_data(dataset_path, dataset_version)['dataframe']"
   ]
  },
  {
   "cell_type": "code",
   "execution_count": null,
   "id": "b7db0e70",
   "metadata": {},
   "outputs": [],
   "source": [
    "from sklearn.model_selection import train_test_split\n",
    "X, y = fake_dataset.iloc[:, :-1], fake_dataset.iloc[:, -1]\n",
    "\n",
    "# this is not the most valid way of doing things\n",
    "X_fake_tr, X_fake_te, y_fake_tr, y_fake_te = train_test_split(X, y, test_size=0.2) "
   ]
  },
  {
   "cell_type": "markdown",
   "id": "6821eff7",
   "metadata": {},
   "source": [
    "### Model Experiments"
   ]
  },
  {
   "cell_type": "code",
   "execution_count": null,
   "id": "152913ef",
   "metadata": {},
   "outputs": [],
   "source": [
    "from xgboost import XGBClassifier\n",
    "from sklearn.ensemble import RandomForestClassifier\n",
    "from sklearn.svm import SVC\n",
    "from sklearn.datasets import make_classification\n",
    "from sklearn.metrics import confusion_matrix, recall_score, precision_score\n",
    "\n",
    "# clf = SVC()\n",
    "# clf = XGBClassifier()\n",
    "clf = RandomForestClassifier()\n",
    "clf.fit(X_fake_tr, y_fake_tr)"
   ]
  },
  {
   "cell_type": "code",
   "execution_count": null,
   "id": "9915a762",
   "metadata": {},
   "outputs": [],
   "source": [
    "y_pre_fake_te = clf.predict(X_fake_te)\n",
    "print(confusion_matrix(y_fake_te, y_pre_fake_te))"
   ]
  },
  {
   "cell_type": "code",
   "execution_count": null,
   "id": "0312776e",
   "metadata": {},
   "outputs": [],
   "source": [
    "print(recall_score(y_fake_te, y_pre_fake_te))\n",
    "print(precision_score(y_fake_te, y_pre_fake_te))"
   ]
  },
  {
   "cell_type": "code",
   "execution_count": null,
   "id": "ec5c42f4",
   "metadata": {},
   "outputs": [],
   "source": [
    "X_fake_te.shape"
   ]
  },
  {
   "cell_type": "code",
   "execution_count": null,
   "id": "87349185",
   "metadata": {},
   "outputs": [],
   "source": [
    "sum(y_fake_te)"
   ]
  },
  {
   "cell_type": "code",
   "execution_count": null,
   "id": "11762042",
   "metadata": {},
   "outputs": [],
   "source": [
    "clf.feature_importances_"
   ]
  },
  {
   "cell_type": "code",
   "execution_count": null,
   "id": "1b0add71",
   "metadata": {},
   "outputs": [],
   "source": [
    "fake_dataset"
   ]
  },
  {
   "cell_type": "code",
   "execution_count": null,
   "id": "0a99f133",
   "metadata": {},
   "outputs": [],
   "source": [
    "fake_dataset.var()"
   ]
  },
  {
   "cell_type": "code",
   "execution_count": null,
   "id": "b083187b",
   "metadata": {},
   "outputs": [],
   "source": [
    "df = fake_dataset"
   ]
  },
  {
   "cell_type": "code",
   "execution_count": null,
   "id": "d575d279",
   "metadata": {},
   "outputs": [],
   "source": [
    "normalized_df=(df-df.mean())"
   ]
  },
  {
   "cell_type": "code",
   "execution_count": null,
   "id": "c3325249",
   "metadata": {},
   "outputs": [],
   "source": [
    "normalized_df.var()"
   ]
  },
  {
   "cell_type": "code",
   "execution_count": null,
   "id": "96e19e65",
   "metadata": {},
   "outputs": [],
   "source": []
  }
 ],
 "metadata": {
  "kernelspec": {
   "display_name": "Python 3 (ipykernel)",
   "language": "python",
   "name": "python3"
  },
  "language_info": {
   "codemirror_mode": {
    "name": "ipython",
    "version": 3
   },
   "file_extension": ".py",
   "mimetype": "text/x-python",
   "name": "python",
   "nbconvert_exporter": "python",
   "pygments_lexer": "ipython3",
   "version": "3.7.9"
  }
 },
 "nbformat": 4,
 "nbformat_minor": 5
}
